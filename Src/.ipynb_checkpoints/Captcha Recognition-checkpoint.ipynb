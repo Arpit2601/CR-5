{
 "cells": [
  {
   "cell_type": "code",
   "execution_count": 17,
   "metadata": {},
   "outputs": [
    {
     "name": "stdout",
     "output_type": "stream",
     "text": [
      "['samples']\n"
     ]
    }
   ],
   "source": [
    "import numpy as np\n",
    "import pandas as pd\n",
    "import matplotlib.pyplot as plt\n",
    "import os\n",
    "import cv2\n",
    "from keras import layers,callbacks\n",
    "from keras.models import Model,load_model\n",
    "import string\n",
    "print(os.listdir('Dataset/captcha-version-2-images'))"
   ]
  },
  {
   "cell_type": "markdown",
   "metadata": {},
   "source": [
    "Symbols contains the letters posssible in images.\n",
    "Images are of shape 50*200*1"
   ]
  },
  {
   "cell_type": "code",
   "execution_count": 18,
   "metadata": {},
   "outputs": [
    {
     "name": "stdout",
     "output_type": "stream",
     "text": [
      "62\n"
     ]
    }
   ],
   "source": [
    "Symbols = string.ascii_lowercase + string.ascii_uppercase + \"0123456789\"\n",
    "num_Symbols = len(Symbols)\n",
    "print(num_Symbols)\n",
    "img_shape = (50, 200, 1)\n"
   ]
  },
  {
   "cell_type": "code",
   "execution_count": 19,
   "metadata": {},
   "outputs": [
    {
     "name": "stdout",
     "output_type": "stream",
     "text": [
      "Number of images  1070\n",
      "Size of training dataset(images and labels)  (900, 50, 200) (900, 5, 62)\n",
      "Size of testing dataset(images and labels)  (170, 50, 200) (170, 5, 62)\n"
     ]
    }
   ],
   "source": [
    "def data_pre_processing():\n",
    "    num_samples = len(os.listdir('Dataset/captcha-version-2-images/samples'))\n",
    "    print('Number of images ', num_samples)\n",
    "    X = np.zeros((num_samples, 50, 200))                    # 1070*50*200*1\n",
    "    Y = np.zeros((num_samples, 5, num_Symbols))               # 1070*5*62\n",
    "    # print(X.shape)\n",
    "    # print(Y.shape)\n",
    "    \n",
    "    for i, pic in enumerate(os.listdir('Dataset/captcha-version-2-images/samples')):\n",
    "        \n",
    "        # i is used as enumerating index\n",
    "        # pic contains the name of image e.g. \"name\".png\n",
    "        img = cv2.imread(os.path.join('Dataset/captcha-version-2-images/samples', pic), cv2.IMREAD_GRAYSCALE)\n",
    "        \n",
    "        name_of_image = pic[:-4]\n",
    "        \n",
    "        # if valid CAPTCHA resize the image\n",
    "        if len(name_of_image) < 6:\n",
    "            # scaling and resizing the image\n",
    "            img = img/255\n",
    "            img = cv2.resize(img, (200, 50))\n",
    "            \n",
    "            # define a matrix to ark all the charaters present in image as 1 and rest all as 0\n",
    "            chars = np.zeros((5,num_Symbols))\n",
    "            \n",
    "            for index in range(0, len(name_of_image)):\n",
    "                l = Symbols.find(name_of_image[index])\n",
    "                chars[index, l] = 1\n",
    "            \n",
    "            X[i] = img\n",
    "            Y[i] = chars\n",
    "            \n",
    "    return X, Y\n",
    "\n",
    "# X contains the images and Y their labels \n",
    "# i.e. X[i] has the CAPTCHA image and Y[i] has its CAPTCHA label\n",
    "\n",
    "\n",
    "X, Y = data_pre_processing()\n",
    "\n",
    "# divide the datasest into test and train dataset\n",
    "# out of 1070 images we will take 900 as training images and 170 as test images\n",
    "\n",
    "# TODO\n",
    "#     add validation set \n",
    "#     take the sizes of test and training set as hyperparameters\n",
    "    \n",
    "    \n",
    "X_train, Y_train = X[:900], Y[:900]\n",
    "X_test, Y_test = X[900:], Y[900:]\n",
    "print(\"Size of training dataset(images and labels) \", X_train.shape, Y_train.shape)\n",
    "print(\"Size of testing dataset(images and labels) \", X_test.shape, Y_test.shape)"
   ]
  },
  {
   "cell_type": "code",
   "execution_count": null,
   "metadata": {},
   "outputs": [],
   "source": [
    "\n",
    "\n",
    "\n",
    "\n",
    "\n",
    "\n",
    "\n",
    "\n",
    "\n",
    "\n",
    "\n",
    "\n",
    "\n",
    "\n",
    "\n",
    "\n",
    "\n",
    "\n",
    "\n",
    "\n",
    "\n",
    "\n",
    "\n",
    "\n",
    "\n"
   ]
  }
 ],
 "metadata": {
  "kernelspec": {
   "display_name": "Python 3",
   "language": "python",
   "name": "python3"
  },
  "language_info": {
   "codemirror_mode": {
    "name": "ipython",
    "version": 3
   },
   "file_extension": ".py",
   "mimetype": "text/x-python",
   "name": "python",
   "nbconvert_exporter": "python",
   "pygments_lexer": "ipython3",
   "version": "3.6.8"
  }
 },
 "nbformat": 4,
 "nbformat_minor": 1
}
